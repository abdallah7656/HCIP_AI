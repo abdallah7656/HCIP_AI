{
  "nbformat": 4,
  "nbformat_minor": 0,
  "metadata": {
    "colab": {
      "provenance": []
    },
    "kernelspec": {
      "name": "python3",
      "display_name": "Python 3"
    },
    "language_info": {
      "name": "python"
    }
  },
  "cells": [
    {
      "cell_type": "markdown",
      "source": [
        "#  SVM Text Classification"
      ],
      "metadata": {
        "id": "xPWiVmo4aCSi"
      }
    },
    {
      "cell_type": "markdown",
      "source": [
        "##load data\n",
        "\n",
        "data link:\n",
        "\n",
        "\n",
        " https://drive.google.com/drive/folders/1--TnLVN8hLLcOnkGP6EQzrrBCMpEuGS5?usp=share_link"
      ],
      "metadata": {
        "id": "4jOTlX-xaSBO"
      }
    },
    {
      "cell_type": "markdown",
      "source": [
        "##  Importing Related Modules\n"
      ],
      "metadata": {
        "id": "Oa8rE2B4aqXG"
      }
    },
    {
      "cell_type": "code",
      "source": [
        "import re\n",
        "import pandas as pd\n",
        "import numpy as np\n",
        "from sklearn import svm\n",
        "from sklearn.feature_extraction.text import TfidfVectorizer\n",
        "from sklearn.feature_selection import SelectKBest, chi2\n",
        "from sklearn.metrics import classification_report, accuracy_score"
      ],
      "metadata": {
        "id": "LyOdZzdxZ_5r"
      },
      "execution_count": 1,
      "outputs": []
    },
    {
      "cell_type": "code",
      "source": [],
      "metadata": {
        "id": "qsq49koxayXQ"
      },
      "execution_count": null,
      "outputs": []
    },
    {
      "cell_type": "markdown",
      "source": [
        "## Data preprocessing"
      ],
      "metadata": {
        "id": "dO7TwJQVa1EO"
      }
    },
    {
      "cell_type": "code",
      "source": [
        "def clean_str(string):\n",
        " \"\"\"\n",
        " Tokenization/string cleaning for all datasets except for SST.\n",
        " Original taken from https://github.com/yoonkim/CNN_sentence/blob/master/process_data.py\n",
        " \"\"\"\n",
        " string = re.sub(r\"[^A-Za-z0-9(),!?\\'\\`]\", \" \", string)\n",
        " string = re.sub(r\"\\'s\", \" \\'s\", string)\n",
        " string = re.sub(r\"\\'ve\", \" \\'ve\", string)\n",
        " string = re.sub(r\"n\\'t\", \" n\\'t\", string)\n",
        " string = re.sub(r\"\\'re\", \" \\'re\", string)\n",
        " string = re.sub(r\"\\'d\", \" \\'d\", string)\n",
        " string = re.sub(r\"\\'ll\", \" \\'ll\", string)\n",
        " string = re.sub(r\",\", \" , \", string)\n",
        " string = re.sub(r\"!\", \" ! \", string)\n",
        " string = re.sub(r\"\\(\", \" \\( \", string)\n",
        " string = re.sub(r\"\\)\", \" \\) \", string)\n",
        " string = re.sub(r\"\\?\", \" \\? \", string)\n",
        " string = re.sub(r\"\\s{2,}\", \" \", string)\n",
        " return string.strip().lower()\n"
      ],
      "metadata": {
        "id": "sR6tvBedayab"
      },
      "execution_count": 2,
      "outputs": []
    },
    {
      "cell_type": "code",
      "source": [
        "def load_data_and_labels(positive_data_file, negative_data_file):\n",
        " \"\"\"\n",
        " Loads MR polarity data from files, splits the data into words and generates labels.\n",
        " Returns split sentences and labels.\n",
        " \"\"\"\n",
        " # Load data from files\n",
        " positive_examples = list(open(positive_data_file, \"r\", encoding='iso-8859-1').readlines()) \n",
        " positive_examples = [s.strip() for s in positive_examples]\n",
        " negative_examples = list(open(negative_data_file, \"r\", encoding='iso-8859-1').readlines()) \n",
        " negative_examples = [s.strip() for s in negative_examples]\n",
        " # Split by words\n",
        " x = positive_examples + negative_examples\n",
        " x = [clean_str(sent) for sent in x]\n",
        " x = np.array(x)\n",
        " # Generate labels\n",
        " positive_labels = [1] * len(positive_examples)\n",
        " negative_labels = [0] * len(negative_examples)\n",
        " y = np.concatenate([positive_labels, negative_labels], 0)\n",
        " \n",
        " \n",
        " shuffle_indices = np.random.permutation(np.arange(len(y)))\n",
        " shuffled_x = x[shuffle_indices]\n",
        " shuffled_y = y[shuffle_indices]\n",
        " \n",
        " return shuffled_x, shuffled_y"
      ],
      "metadata": {
        "id": "4sNyGlkzbNNp"
      },
      "execution_count": 7,
      "outputs": []
    },
    {
      "cell_type": "code",
      "source": [],
      "metadata": {
        "id": "pSstkxWXb-qS"
      },
      "execution_count": null,
      "outputs": []
    },
    {
      "cell_type": "markdown",
      "source": [
        "## Load data:\n",
        "\n"
      ],
      "metadata": {
        "id": "1G8pHlB2b_1u"
      }
    },
    {
      "cell_type": "code",
      "source": [
        "positive_data_file = 'data/rt-polarity.pos'\n",
        "negative_data_file = 'data/rt-polarity.neg'\n",
        "x, y = load_data_and_labels(positive_data_file, negative_data_file)\n"
      ],
      "metadata": {
        "id": "byD_23-_b-sV"
      },
      "execution_count": 8,
      "outputs": []
    },
    {
      "cell_type": "markdown",
      "source": [
        "Show data features: \n"
      ],
      "metadata": {
        "id": "7JLlm9KOcHss"
      }
    },
    {
      "cell_type": "code",
      "source": [
        "x[:5]"
      ],
      "metadata": {
        "colab": {
          "base_uri": "https://localhost:8080/"
        },
        "id": "SU3Yj8ipb-xz",
        "outputId": "dd1cc4c8-5f5a-446e-b90a-33f7973fcd7c"
      },
      "execution_count": 9,
      "outputs": [
        {
          "output_type": "execute_result",
          "data": {
            "text/plain": [
              "array([\"a depressingly retrograde , 'post feminist' romantic comedy that takes an astonishingly condescending attitude toward women\",\n",
              "       \"either you 're willing to go with this claustrophobic concept or you 're not\",\n",
              "       \"gosling 's combination of explosive physical energy and convincing intelligence helps create a complex , unpredictable character\",\n",
              "       \"with 'bowling for columbine , ' michael moore gives us the perfect starting point for a national conversation about guns , violence , and fear\",\n",
              "       'this action thriller dark comedy is one of the most repellent things to pop up in a cinematic year already littered with celluloid garbage'],\n",
              "      dtype='<U266')"
            ]
          },
          "metadata": {},
          "execution_count": 9
        }
      ]
    },
    {
      "cell_type": "code",
      "source": [
        "y[:5]\n"
      ],
      "metadata": {
        "colab": {
          "base_uri": "https://localhost:8080/"
        },
        "id": "XPHGnOzRdGG1",
        "outputId": "8ff14c96-46a6-4ca8-f2bd-fbee71713c36"
      },
      "execution_count": 10,
      "outputs": [
        {
          "output_type": "execute_result",
          "data": {
            "text/plain": [
              "array([0, 1, 1, 1, 0])"
            ]
          },
          "metadata": {},
          "execution_count": 10
        }
      ]
    },
    {
      "cell_type": "code",
      "source": [],
      "metadata": {
        "id": "Q4lQ7Z2BdGJe"
      },
      "execution_count": null,
      "outputs": []
    },
    {
      "cell_type": "markdown",
      "source": [
        "## split "
      ],
      "metadata": {
        "id": "0Trx4U36daUa"
      }
    },
    {
      "cell_type": "code",
      "source": [
        "test_size = 2000\n",
        "x_train, y_train = x[:-2000], y[:-2000]\n",
        "x_test, y_test = x[-2000:], y[-2000:]\n",
        "label_map = {0: 'negative', 1: 'positive'}\n"
      ],
      "metadata": {
        "id": "dN02UGPvdZce"
      },
      "execution_count": 11,
      "outputs": []
    },
    {
      "cell_type": "markdown",
      "source": [
        "## Define the main class of the classifier, define training, and test functions.\n"
      ],
      "metadata": {
        "id": "52dM96Frdj-k"
      }
    },
    {
      "cell_type": "code",
      "source": [
        "\n",
        "class SVM_Classifier(object):\n",
        " \n",
        " def __init__(self, use_chi=False):\n",
        " \n",
        "   self.use_chi = use_chi # Whether use chi-square test for feature selection\n",
        "   # SVM\n",
        "   self.model = svm.SVC(C=1.0, kernel='linear', degree=3, gamma='auto')\n",
        "   # use tf-idf extract features\n",
        "   self.feature_processor = TfidfVectorizer()\n",
        "   # chi-square test for feature selection\n",
        "   if use_chi:\n",
        "      self.feature_selector = SelectKBest(chi2, k=10000) # 34814 -> 10000\n",
        " \n",
        " def fit(self, x_train, y_train, x_test, y_test):\n",
        " \n",
        "   x_train_fea = self.feature_processor.fit_transform(x_train)\n",
        "   if self.use_chi:\n",
        "      x_train_fea = self.feature_selector.fit_transform(x_train_fea, y_train)\n",
        "   self.model.fit(x_train_fea, y_train)\n",
        " \n",
        "   train_accuracy = self.model.score(x_train_fea, y_train)\n",
        "   print(\"Training Accuracy：{}\".format(round(train_accuracy, 3)))\n",
        " \n",
        "   x_test_fea = self.feature_processor.transform(x_test)\n",
        "   if self.use_chi:\n",
        "      x_test_fea = self.feature_selector.transform(x_test_fea)\n",
        "   y_predict = self.model.predict(x_test_fea)\n",
        "   test_accuracy = accuracy_score(y_test, y_predict)\n",
        "   print(\"Test Accuracy：{}\".format(round(test_accuracy, 3)))\n",
        "   print('Test set evaluate：')\n",
        "   print(classification_report(y_test, y_predict, target_names=['negative', 'positive']))\n",
        " \n",
        " def single_predict(self, text):\n",
        "   text_fea = self.feature_processor.transform([text])\n",
        "   if self.use_chi:\n",
        "     text_fea = self.feature_selector.transform(text_fea)\n",
        "   predict_idx = self.model.predict(text_fea)[0]\n",
        "   predict_label = label_map[predict_idx]\n",
        "   return predict_label\n"
      ],
      "metadata": {
        "id": "Vcj8_HIDdftG"
      },
      "execution_count": 14,
      "outputs": []
    },
    {
      "cell_type": "markdown",
      "source": [
        "## Train the SVM classifier without the chi-square test. \n"
      ],
      "metadata": {
        "id": "Lcugn9Y3f-jV"
      }
    },
    {
      "cell_type": "code",
      "source": [
        " svm_classifier = SVM_Classifier()\n",
        "svm_classifier.fit(x_train, y_train, x_test, y_test)\n"
      ],
      "metadata": {
        "colab": {
          "base_uri": "https://localhost:8080/"
        },
        "id": "ScaLColodfvB",
        "outputId": "87c0e742-154e-4449-fca1-94ed81a949e1"
      },
      "execution_count": 15,
      "outputs": [
        {
          "output_type": "stream",
          "name": "stdout",
          "text": [
            "Training Accuracy：0.936\n",
            "Test Accuracy：0.762\n",
            "Test set evaluate：\n",
            "              precision    recall  f1-score   support\n",
            "\n",
            "    negative       0.76      0.76      0.76       996\n",
            "    positive       0.76      0.76      0.76      1004\n",
            "\n",
            "    accuracy                           0.76      2000\n",
            "   macro avg       0.76      0.76      0.76      2000\n",
            "weighted avg       0.76      0.76      0.76      2000\n",
            "\n"
          ]
        }
      ]
    },
    {
      "cell_type": "markdown",
      "source": [
        "## Train SVM classifiers and use chi-square test. \n"
      ],
      "metadata": {
        "id": "GGwuk8jlgrn2"
      }
    },
    {
      "cell_type": "code",
      "source": [
        "svm_classifier = SVM_Classifier(use_chi=True)\n",
        "svm_classifier.fit(x_train, y_train, x_test, y_test)"
      ],
      "metadata": {
        "colab": {
          "base_uri": "https://localhost:8080/"
        },
        "id": "-7r59wnYdfyb",
        "outputId": "58cc1cbc-9bbc-4acc-de8e-44657eb78047"
      },
      "execution_count": 16,
      "outputs": [
        {
          "output_type": "stream",
          "name": "stdout",
          "text": [
            "Training Accuracy：0.92\n",
            "Test Accuracy：0.757\n",
            "Test set evaluate：\n",
            "              precision    recall  f1-score   support\n",
            "\n",
            "    negative       0.75      0.77      0.76       996\n",
            "    positive       0.77      0.74      0.75      1004\n",
            "\n",
            "    accuracy                           0.76      2000\n",
            "   macro avg       0.76      0.76      0.76      2000\n",
            "weighted avg       0.76      0.76      0.76      2000\n",
            "\n"
          ]
        }
      ]
    },
    {
      "cell_type": "markdown",
      "source": [
        "## chi-square feature analysis\n"
      ],
      "metadata": {
        "id": "5thK2_8IkmAZ"
      }
    },
    {
      "cell_type": "code",
      "source": [
        "\n",
        "def feature_analysis():\n",
        " feature_names = svm_classifier.feature_processor.get_feature_names_out()\n",
        " feature_scores = svm_classifier.feature_selector.scores_\n",
        " fea_score_tups = list(zip(feature_names, feature_scores))\n",
        " fea_score_tups.sort(key=lambda tup: tup[1], reverse=True)\n",
        " \n",
        " return fea_score_tups\n",
        "feature_analysis()[:500]"
      ],
      "metadata": {
        "colab": {
          "base_uri": "https://localhost:8080/"
        },
        "id": "MWMiFOvmklVG",
        "outputId": "fb6b97a1-26b1-4118-c6a7-953f5ede5512"
      },
      "execution_count": 18,
      "outputs": [
        {
          "output_type": "execute_result",
          "data": {
            "text/plain": [
              "[('too', 28.586492680391004),\n",
              " ('bad', 25.416566933865724),\n",
              " ('dull', 12.744288853976371),\n",
              " ('moving', 11.64661597885886),\n",
              " ('boring', 10.488514911373365),\n",
              " ('no', 8.773242362253436),\n",
              " ('touching', 8.77035351849974),\n",
              " ('and', 8.601428446471616),\n",
              " ('enjoyable', 8.54944626666883),\n",
              " ('heart', 8.485753513796631),\n",
              " ('solid', 8.368057896870553),\n",
              " ('best', 8.181289066117529),\n",
              " ('wonderful', 7.930132790445738),\n",
              " ('mess', 7.908352634764329),\n",
              " ('funny', 7.606281164956832),\n",
              " ('portrait', 7.533702554611895),\n",
              " ('engrossing', 7.515779641772426),\n",
              " ('tv', 7.321278137957245),\n",
              " ('entertaining', 7.3185184400184955),\n",
              " ('worst', 7.316132850085436),\n",
              " ('flat', 7.306739179044317),\n",
              " ('just', 7.262946019029469),\n",
              " ('feels', 7.134616985666686),\n",
              " ('smart', 7.0951487603566905),\n",
              " ('powerful', 7.07786029215524),\n",
              " ('video', 6.965263078443845),\n",
              " ('performances', 6.95795894024276),\n",
              " ('warm', 6.89704175082893),\n",
              " ('so', 6.83680508715214),\n",
              " ('thoughtful', 6.7558576581979155),\n",
              " ('silly', 6.730474554497938),\n",
              " ('pretentious', 6.716362378507929),\n",
              " ('script', 6.702407959256509),\n",
              " ('cinema', 6.6257028012207115),\n",
              " ('fails', 6.48254028116674),\n",
              " ('refreshing', 6.233222983851192),\n",
              " ('family', 6.186777721988285),\n",
              " ('riveting', 6.174284819317531),\n",
              " ('culture', 6.066784343645232),\n",
              " ('mediocre', 6.056973855105085),\n",
              " ('unfunny', 5.983448783599211),\n",
              " ('charming', 5.979696543199006),\n",
              " ('documentary', 5.974145399997385),\n",
              " ('tries', 5.82853335949418),\n",
              " ('hilarious', 5.810212882441158),\n",
              " ('stupid', 5.751686628514779),\n",
              " ('generic', 5.738035353671686),\n",
              " ('bland', 5.695103812694093),\n",
              " ('thing', 5.587274458761265),\n",
              " ('disturbing', 5.5764137146192905),\n",
              " ('heavy', 5.5641833169525885),\n",
              " ('badly', 5.559818536518679),\n",
              " ('human', 5.554542496888686),\n",
              " ('problem', 5.485563534547849),\n",
              " ('beautifully', 5.450664691531018),\n",
              " ('routine', 5.370848101214281),\n",
              " ('quiet', 5.3699409871071575),\n",
              " ('compelling', 5.348955443655585),\n",
              " ('waste', 5.219568346453531),\n",
              " ('both', 5.194504497408934),\n",
              " ('pointless', 5.103222235302923),\n",
              " ('nothing', 5.102320583265998),\n",
              " ('captures', 5.082321563746948),\n",
              " ('minutes', 5.042932076769131),\n",
              " ('fun', 5.004977484685637),\n",
              " ('contrived', 4.996703605221208),\n",
              " ('history', 4.981234707770037),\n",
              " ('provides', 4.9637011233138),\n",
              " ('intelligent', 4.894956137905158),\n",
              " ('world', 4.82827479081736),\n",
              " ('refreshingly', 4.827767054987474),\n",
              " ('title', 4.8039217958005),\n",
              " ('witty', 4.784659926198398),\n",
              " ('gem', 4.770816953492479),\n",
              " ('journey', 4.761802427810651),\n",
              " ('tired', 4.761229218418033),\n",
              " ('brilliant', 4.753790870203678),\n",
              " ('jokes', 4.7423895390436694),\n",
              " ('thin', 4.665908125074347),\n",
              " ('flaws', 4.649211392581252),\n",
              " ('or', 4.580562600283506),\n",
              " ('love', 4.578795867477521),\n",
              " ('only', 4.571262534424102),\n",
              " ('inventive', 4.52764366455834),\n",
              " ('bore', 4.522064198621151),\n",
              " ('movie', 4.486140006337375),\n",
              " ('perfect', 4.4755656645297535),\n",
              " ('poorly', 4.452575939710643),\n",
              " ('absorbing', 4.430765113173155),\n",
              " ('stale', 4.384299370409023),\n",
              " ('exercise', 4.343954415705366),\n",
              " ('lame', 4.333706726525555),\n",
              " ('examination', 4.322803223112662),\n",
              " ('sweet', 4.320250703656102),\n",
              " ('lousy', 4.314846936701731),\n",
              " ('were', 4.295714052250121),\n",
              " ('worse', 4.281702798314884),\n",
              " ('remarkable', 4.265882378598594),\n",
              " ('lacking', 4.248816696328815),\n",
              " ('unsettling', 4.241205033668344),\n",
              " ('our', 4.228212269657758),\n",
              " ('was', 4.2247128344314575),\n",
              " ('look', 4.151548437982245),\n",
              " ('flawed', 4.148863858515535),\n",
              " ('off', 4.142756587636098),\n",
              " ('poignant', 4.134736701520083),\n",
              " ('beautiful', 4.112037464617035),\n",
              " ('works', 4.098998863864278),\n",
              " ('beauty', 4.066871041665566),\n",
              " ('already', 4.059982377653816),\n",
              " ('wonderfully', 4.045401431303003),\n",
              " ('clich', 4.040513187481956),\n",
              " ('fascinating', 4.028817975180439),\n",
              " ('disguise', 4.004352971500341),\n",
              " ('unexpected', 4.000029804352529),\n",
              " ('masterpiece', 3.9845198171320497),\n",
              " ('skin', 3.9768130506893646),\n",
              " ('heartwarming', 3.9567609116356257),\n",
              " ('suffers', 3.9552023183417155),\n",
              " ('affecting', 3.919376785807305),\n",
              " ('plain', 3.911156663039912),\n",
              " ('always', 3.9105298883853115),\n",
              " ('delightful', 3.909166602950495),\n",
              " ('performance', 3.9015076111220086),\n",
              " ('lifeless', 3.8937553404123433),\n",
              " ('colorful', 3.8541371951657846),\n",
              " ('seagal', 3.849799690944583),\n",
              " ('uninspired', 3.845051176472994),\n",
              " ('tour', 3.81514785620742),\n",
              " ('neither', 3.7978191562361214),\n",
              " ('gentle', 3.7966526025170517),\n",
              " ('haunting', 3.7865941059405435),\n",
              " ('every', 3.785851315112729),\n",
              " ('still', 3.771951693803884),\n",
              " ('bittersweet', 3.771152195244647),\n",
              " ('awful', 3.7703561385909783),\n",
              " ('friendship', 3.769585330481103),\n",
              " ('annoying', 3.752833906438915),\n",
              " ('like', 3.7500739738566375),\n",
              " ('chilling', 3.7360935902140566),\n",
              " ('pacing', 3.7245929169806438),\n",
              " ('worth', 3.711582742993084),\n",
              " ('been', 3.6634913899924997),\n",
              " ('idea', 3.65053934075185),\n",
              " ('simplistic', 3.6375676504956287),\n",
              " ('would', 3.599495141637987),\n",
              " ('long', 3.595217486100659),\n",
              " ('french', 3.5391201562330314),\n",
              " ('mesmerizing', 3.5344798887680993),\n",
              " ('do', 3.49997366627879),\n",
              " ('intimate', 3.496913237944131),\n",
              " ('an', 3.4855861458981385),\n",
              " ('soap', 3.482455530506545),\n",
              " ('life', 3.4799768380986285),\n",
              " ('animal', 3.472815603410668),\n",
              " ('polished', 3.461912655637975),\n",
              " ('junk', 3.458813865262046),\n",
              " ('rare', 3.455154593480822),\n",
              " ('really', 3.4442744340407208),\n",
              " ('eyes', 3.4340616358906737),\n",
              " ('disaster', 3.4225365075660914),\n",
              " ('shoot', 3.407574473446962),\n",
              " ('lively', 3.4065309709888565),\n",
              " ('ingenious', 3.3887077034712902),\n",
              " ('son', 3.3786696821986797),\n",
              " ('form', 3.3721057149447944),\n",
              " ('product', 3.3633979847072233),\n",
              " ('much', 3.3357431834920166),\n",
              " ('terrific', 3.332202258819546),\n",
              " ('ages', 3.310880247842907),\n",
              " ('popcorn', 3.2900455764676666),\n",
              " ('tender', 3.2878308488538104),\n",
              " ('wants', 3.279223916985365),\n",
              " ('sly', 3.277662773368667),\n",
              " ('sobering', 3.276848653449206),\n",
              " ('of', 3.2726653680905917),\n",
              " ('wry', 3.259795793684235),\n",
              " ('indulgent', 3.2575548787647195),\n",
              " ('vividly', 3.2569576075978572),\n",
              " ('meandering', 3.2515297989678924),\n",
              " ('realistic', 3.228056924723526),\n",
              " ('supposed', 3.2029950490275696),\n",
              " ('resonant', 3.1820240554012416),\n",
              " ('tedious', 3.1802827453476112),\n",
              " ('banal', 3.1762481236053413),\n",
              " ('detailed', 3.1703558637143),\n",
              " ('heartbreaking', 3.1636350542931604),\n",
              " ('90', 3.161286508641762),\n",
              " ('surprisingly', 3.159468337076751),\n",
              " ('experience', 3.1583671904126422),\n",
              " ('things', 3.158307499376953),\n",
              " ('stiff', 3.1566948482608943),\n",
              " ('stunning', 3.149095215620468),\n",
              " ('engaging', 3.143828670980408),\n",
              " ('cho', 3.126260401023951),\n",
              " ('wrong', 3.1171733196223017),\n",
              " ('study', 3.104655013906217),\n",
              " ('romantic', 3.103832092944039),\n",
              " ('drama', 3.1019569464418755),\n",
              " ('dreary', 3.100698992173692),\n",
              " ('plodding', 3.0900886317595297),\n",
              " ('sit', 3.088800098243329),\n",
              " ('mindless', 3.088720324372299),\n",
              " ('week', 3.0865230033210453),\n",
              " ('joyous', 3.077074449159598),\n",
              " ('conceived', 3.0513697145977368),\n",
              " ('pinocchio', 3.046596059343525),\n",
              " ('nor', 3.0392149518467235),\n",
              " ('lyrical', 3.030640192607335),\n",
              " ('rich', 3.0217619480835562),\n",
              " ('insightful', 3.0110394972376815),\n",
              " ('disappointment', 3.0061879088841934),\n",
              " ('film', 2.9992547906865217),\n",
              " ('benigni', 2.994500810018235),\n",
              " ('filmmaker', 2.9823985546153207),\n",
              " ('barely', 2.973746154935526),\n",
              " ('richly', 2.968566783940671),\n",
              " ('force', 2.9665661015453493),\n",
              " ('numbers', 2.961817915984896),\n",
              " ('psychological', 2.9593556712604485),\n",
              " ('ca', 2.959347369801745),\n",
              " ('melancholy', 2.954095422990661),\n",
              " ('loud', 2.9527348411190646),\n",
              " ('ride', 2.9375454273927),\n",
              " ('unfortunately', 2.9356198165757066),\n",
              " ('inane', 2.9348777557211516),\n",
              " ('horrible', 2.933818347918952),\n",
              " ('left', 2.9294307109726523),\n",
              " ('lack', 2.9262946657060405),\n",
              " ('delivers', 2.920535530231521),\n",
              " ('purpose', 2.9165978679401627),\n",
              " ('down', 2.9125752069549646),\n",
              " ('delicately', 2.8970605524847306),\n",
              " ('soggy', 2.8911602500153),\n",
              " ('half', 2.884611120846497),\n",
              " ('unforgettable', 2.8809258629817562),\n",
              " ('episode', 2.870065984493075),\n",
              " ('pathetic', 2.853560560165793),\n",
              " ('unique', 2.847852331245731),\n",
              " ('intense', 2.842352718109425),\n",
              " ('plays', 2.8297438906368555),\n",
              " ('ugly', 2.8296275470639634),\n",
              " ('whole', 2.8246908189880915),\n",
              " ('vivid', 2.7959155632452193),\n",
              " ('grating', 2.786731457167342),\n",
              " ('schneider', 2.766627502498121),\n",
              " ('lower', 2.763553852216342),\n",
              " ('deftly', 2.7576837241971264),\n",
              " ('woody', 2.756396390529354),\n",
              " ('joke', 2.750832765362687),\n",
              " ('paper', 2.7471920754523604),\n",
              " ('offensive', 2.7449268406508742),\n",
              " ('gags', 2.7411978940146806),\n",
              " ('offers', 2.7375930010678813),\n",
              " ('grown', 2.7369984542671473),\n",
              " ('manages', 2.7364939175831005),\n",
              " ('instead', 2.735746373953548),\n",
              " ('51', 2.733297111991084),\n",
              " ('unimaginative', 2.730376161471539),\n",
              " ('smartly', 2.727771186541586),\n",
              " ('explores', 2.725775293454997),\n",
              " ('choppy', 2.721706209013923),\n",
              " ('anything', 2.721664982362611),\n",
              " ('bears', 2.720622871750421),\n",
              " ('unflinching', 2.7202556628152874),\n",
              " ('leaden', 2.7170952815092573),\n",
              " ('year', 2.71450770462),\n",
              " ('unintentional', 2.712976419749152),\n",
              " ('gorgeous', 2.7018287524341758),\n",
              " ('deadpan', 2.70033030294113),\n",
              " ('glorious', 2.6992882034098065),\n",
              " ('solidly', 2.6935585406781493),\n",
              " ('winning', 2.693433187994887),\n",
              " ('strange', 2.6791867087683907),\n",
              " ('forced', 2.673178715690213),\n",
              " ('mood', 2.6722808440735113),\n",
              " ('store', 2.6696771374905257),\n",
              " ('obvious', 2.667997950271537),\n",
              " ('jealousy', 2.6668365001712324),\n",
              " ('falls', 2.6609425050166933),\n",
              " ('observed', 2.6507313135865185),\n",
              " ('ill', 2.639763966595166),\n",
              " ('treat', 2.6396360923577054),\n",
              " ('gently', 2.6392769433377294),\n",
              " ('urban', 2.634528912750021),\n",
              " ('attempt', 2.6324859691734175),\n",
              " ('lovers', 2.6288320021562006),\n",
              " ('lackluster', 2.6228616671539475),\n",
              " ('sour', 2.6130750799434104),\n",
              " ('ramsay', 2.612630469468625),\n",
              " ('laughable', 2.6086487651183745),\n",
              " ('deft', 2.608379369075136),\n",
              " ('carvey', 2.607220077179419),\n",
              " ('summer', 2.603427360564903),\n",
              " ('ballistic', 2.599842180105551),\n",
              " ('television', 2.5980954432788783),\n",
              " ('cliched', 2.5968760207053743),\n",
              " ('tiresome', 2.596561626376661),\n",
              " ('save', 2.5963306741632364),\n",
              " ('lazy', 2.5958077310915915),\n",
              " ('mildly', 2.5948441446017467),\n",
              " ('incoherent', 2.5939329275781624),\n",
              " ('none', 2.5842381159392502),\n",
              " ('named', 2.5776618683328323),\n",
              " ('exhilarating', 2.5761443628845515),\n",
              " ('dazzling', 2.574608639424496),\n",
              " ('respect', 2.5733546874786914),\n",
              " ('inept', 2.5730139099289193),\n",
              " ('years', 2.5669837425361877),\n",
              " ('cable', 2.5640022158722537),\n",
              " ('money', 2.559906426070671),\n",
              " ('fatal', 2.5594806081934323),\n",
              " ('wasted', 2.556191620624582),\n",
              " ('captivating', 2.548119291778857),\n",
              " ('part', 2.5414421321187532),\n",
              " ('serving', 2.540480853297773),\n",
              " ('spare', 2.5354342975725412),\n",
              " ('brings', 2.5229747556820334),\n",
              " ('comparison', 2.5190310772433717),\n",
              " ('me', 2.5178359016647187),\n",
              " ('reason', 2.517425572454967),\n",
              " ('premise', 2.5152679201555257),\n",
              " ('warmed', 2.5125478617824712),\n",
              " ('less', 2.5121081963026413),\n",
              " ('fashioned', 2.50228360958602),\n",
              " ('rollerball', 2.500427497402378),\n",
              " ('pulls', 2.4976899481931714),\n",
              " ('dogs', 2.4954212743636126),\n",
              " ('plot', 2.492917620760987),\n",
              " ('sara', 2.4926794522313123),\n",
              " ('unless', 2.486211056110005),\n",
              " ('vapid', 2.474538686455317),\n",
              " ('crap', 2.4664466924137574),\n",
              " ('formulaic', 2.46532187542039),\n",
              " ('moviemaking', 2.457415433274882),\n",
              " ('where', 2.452902658784673),\n",
              " ('situations', 2.4510682098110594),\n",
              " ('ya', 2.448819206032604),\n",
              " ('thanks', 2.4469926609370782),\n",
              " ('deep', 2.446532902777419),\n",
              " ('subtle', 2.446174489193488),\n",
              " ('weak', 2.445228501995101),\n",
              " ('disbelief', 2.442517031416858),\n",
              " ('numbingly', 2.4330641118569476),\n",
              " ('sweetly', 2.4327693195441884),\n",
              " ('mamet', 2.431517594111558),\n",
              " ('entertain', 2.426602603783759),\n",
              " ('handed', 2.425790403002587),\n",
              " ('unpredictable', 2.42488989787205),\n",
              " ('gross', 2.4245882767483797),\n",
              " ('clumsily', 2.4186559142195714),\n",
              " ('enormously', 2.415502960755484),\n",
              " ('sketch', 2.4143290079899717),\n",
              " ('unnecessary', 2.402231079580701),\n",
              " ('honest', 2.39638106891908),\n",
              " ('before', 2.3962369703105355),\n",
              " ('dog', 2.3938689057560434),\n",
              " ('startling', 2.3897564251349426),\n",
              " ('claustrophobic', 2.388925494106276),\n",
              " ('let', 2.379569685912032),\n",
              " ('superbly', 2.375696895842088),\n",
              " ('undeniably', 2.3692121212164086),\n",
              " ('superficial', 2.369109102933126),\n",
              " ('taut', 2.36888928228202),\n",
              " ('intriguing', 2.3676853299297713),\n",
              " ('stilted', 2.363042774927356),\n",
              " ('yarn', 2.359540813752929),\n",
              " ('ends', 2.3577738523033576),\n",
              " ('hopeful', 2.353780261750365),\n",
              " ('kissinger', 2.3529382766081337),\n",
              " ('fresh', 2.3520553503434143),\n",
              " ('mixed', 2.3503183230985907),\n",
              " ('running', 2.3418723851105456),\n",
              " ('iranian', 2.3385337909932087),\n",
              " ('irresistible', 2.3356481498670014),\n",
              " ('with', 2.3305273105921795),\n",
              " ('frailty', 2.33012222521272),\n",
              " ('shallow', 2.328336906895578),\n",
              " ('tuxedo', 2.324455332709917),\n",
              " ('credibility', 2.317703560615003),\n",
              " ('web', 2.3100162355559193),\n",
              " ('produce', 2.3035030893514588),\n",
              " ('soulless', 2.3032217630010647),\n",
              " ('devoid', 2.301640473082774),\n",
              " ('scale', 2.30152813340902),\n",
              " ('sadness', 2.28921245567376),\n",
              " ('becomes', 2.2831692493659723),\n",
              " ('drag', 2.2787138369638225),\n",
              " ('power', 2.2780815731875097),\n",
              " ('remotely', 2.275610087768304),\n",
              " ('imax', 2.2731309286922543),\n",
              " ('trite', 2.2724536651868212),\n",
              " ('stunt', 2.271379014055616),\n",
              " ('deeply', 2.264077192415636),\n",
              " ('gloriously', 2.2639560825552394),\n",
              " ('amateurish', 2.2631689766458987),\n",
              " ('unusual', 2.262790149359889),\n",
              " ('halfway', 2.2561780047348234),\n",
              " ('unintentionally', 2.243208215753067),\n",
              " ('simplicity', 2.242917679091705),\n",
              " ('escapist', 2.2428912135913386),\n",
              " ('stevenson', 2.235286702829832),\n",
              " ('unwatchable', 2.2347688486472697),\n",
              " ('wrenching', 2.232963836045748),\n",
              " ('anemic', 2.2301197423471266),\n",
              " ('infectious', 2.2258209092256522),\n",
              " ('lee', 2.2249882211151375),\n",
              " ('playful', 2.224398932437426),\n",
              " ('quietly', 2.2232457805986288),\n",
              " ('more', 2.215248165490994),\n",
              " ('excuse', 2.214247964698246),\n",
              " ('empty', 2.210928140825672),\n",
              " ('limp', 2.209905319567328),\n",
              " ('listless', 2.209808945024063),\n",
              " ('not', 2.2025094898164066),\n",
              " ('potent', 2.20215085086633),\n",
              " ('delightfully', 2.2007636477232326),\n",
              " ('violence', 2.197435627355479),\n",
              " ('retread', 2.191974270891609),\n",
              " ('man', 2.189370013721973),\n",
              " ('suspect', 2.1806850566378753),\n",
              " ('loss', 2.1802398847153652),\n",
              " ('consistently', 2.177783059014381),\n",
              " ('nicely', 2.177173997942024),\n",
              " ('another', 2.171706348098221),\n",
              " ('except', 2.1713532319172906),\n",
              " ('intoxicating', 2.1707221502008665),\n",
              " ('bother', 2.167848701479078),\n",
              " ('mechanical', 2.1677147123889497),\n",
              " ('drivel', 2.162321971637618),\n",
              " ('soulful', 2.1613784530834543),\n",
              " ('sitting', 2.1604353954173687),\n",
              " ('britney', 2.1603013917627285),\n",
              " ('literate', 2.153546695539606),\n",
              " ('accurate', 2.1532532449796102),\n",
              " ('daring', 2.150928850264595),\n",
              " ('kinnear', 2.149813786334175),\n",
              " ('different', 2.1432719061153085),\n",
              " ('bride', 2.141303098824544),\n",
              " ('ludicrous', 2.140882908489191),\n",
              " ('contemporary', 2.1308336399556187),\n",
              " ('integrity', 2.1290213744373974),\n",
              " ('chan', 2.1265585944606835),\n",
              " ('pie', 2.1250762256338445),\n",
              " ('did', 2.1190663106741505),\n",
              " ('alas', 2.1188807337461073),\n",
              " ('metropolis', 2.118456958677311),\n",
              " ('spirit', 2.117339066992595),\n",
              " ('smarter', 2.115698635908392),\n",
              " ('delicate', 2.111275999257661),\n",
              " ('ambiguity', 2.1108796912347367),\n",
              " ('masterful', 2.1089965463412956),\n",
              " ('miserable', 2.105822179450821),\n",
              " ('sadly', 2.105369648547291),\n",
              " ('pleasure', 2.104112536395351),\n",
              " ('tasty', 2.1028201388589083),\n",
              " ('subversive', 2.102489342880167),\n",
              " ('martha', 2.10222827327608),\n",
              " ('than', 2.1010695030317876),\n",
              " ('clooney', 2.0993390144700905),\n",
              " ('length', 2.0984140111554894),\n",
              " ('else', 2.0972602200961115),\n",
              " ('gives', 2.095077620369148),\n",
              " ('elegant', 2.0945442648058656),\n",
              " ('buoyant', 2.092085256773192),\n",
              " ('format', 2.0912836975079707),\n",
              " ('open', 2.0902495977953026),\n",
              " ('spider', 2.0884612314076794),\n",
              " ('parody', 2.08683495656486),\n",
              " ('cliche', 2.0850610416635753),\n",
              " ('wooden', 2.0843218920926803),\n",
              " ('frankly', 2.0831369491451177),\n",
              " ('person', 2.0807222357991817),\n",
              " ('vague', 2.0804184183003818),\n",
              " ('dud', 2.076725407822675),\n",
              " ('maudlin', 2.070895588795571),\n",
              " ('indictment', 2.0705193639423323),\n",
              " ('harvard', 2.0690532151187),\n",
              " ('marvel', 2.0685609348313636),\n",
              " ('merit', 2.067362358992258),\n",
              " ('worn', 2.0658911025811655),\n",
              " ('why', 2.0653026661189458),\n",
              " ('sentiment', 2.065233052972044),\n",
              " ('seriously', 2.0643190526921984),\n",
              " ('straightforward', 2.059596584612603),\n",
              " ('lawrence', 2.058010850030312),\n",
              " ('highly', 2.0565152112247063),\n",
              " ('scope', 2.0550871122220356),\n",
              " ('collection', 2.055054773709487),\n",
              " ('unfocused', 2.0549180069873154),\n",
              " ('mild', 2.0529544159216577),\n",
              " ('feminist', 2.0501417923146628),\n",
              " ('relationships', 2.049699830659831),\n",
              " ('rote', 2.0473430182482746),\n",
              " ('transcends', 2.046046184895382),\n",
              " ('sides', 2.0423150120515423),\n",
              " ('misfire', 2.0313895102183412),\n",
              " ('pacino', 2.0308149189035953),\n",
              " ('huppert', 2.027406889080101),\n",
              " ('sweeping', 2.021496325630406)]"
            ]
          },
          "metadata": {},
          "execution_count": 18
        }
      ]
    },
    {
      "cell_type": "code",
      "source": [
        "# from sklearn.feature_extraction.text import TfidfVectorizer\n",
        "\n",
        "# # create a TfidfVectorizer object\n",
        "# tfidf = TfidfVectorizer()\n",
        "\n",
        "# # fit the vectorizer to your text data\n",
        "# tfidf.fit(text_data)\n",
        "\n",
        "# # convert the TfidfVectorizer object to a CountVectorizer object\n",
        "# cv = CountVectorizer(vocabulary=tfidf.vocabulary_)\n",
        "# cv_arr = cv.fit_transform(text_data).toarray()\n",
        "\n",
        "# # get the feature names\n",
        "# feature_names = cv.get_feature_names()\n"
      ],
      "metadata": {
        "id": "PPy_zZ9QmPrx"
      },
      "execution_count": null,
      "outputs": []
    },
    {
      "cell_type": "markdown",
      "source": [
        "## Single sentence test\n"
      ],
      "metadata": {
        "id": "tINaod0sndrB"
      }
    },
    {
      "cell_type": "markdown",
      "source": [
        "Test the prediction result of a single sentence: \n"
      ],
      "metadata": {
        "id": "TYq1DNqbnjR0"
      }
    },
    {
      "cell_type": "code",
      "source": [
        "\n",
        "svm_classifier.single_predict(\"beautiful actors, great movie\")"
      ],
      "metadata": {
        "colab": {
          "base_uri": "https://localhost:8080/",
          "height": 35
        },
        "id": "szJjByWpncl_",
        "outputId": "3c4dffc6-560a-419b-88af-7b8bc51a73b3"
      },
      "execution_count": 19,
      "outputs": [
        {
          "output_type": "execute_result",
          "data": {
            "text/plain": [
              "'positive'"
            ],
            "application/vnd.google.colaboratory.intrinsic+json": {
              "type": "string"
            }
          },
          "metadata": {},
          "execution_count": 19
        }
      ]
    },
    {
      "cell_type": "code",
      "source": [
        "svm_classifier.single_predict(\"it's really boring\")\n"
      ],
      "metadata": {
        "colab": {
          "base_uri": "https://localhost:8080/",
          "height": 35
        },
        "id": "boqhz1djncpA",
        "outputId": "2f5a5b8a-04f7-4ebc-e87d-b1ffb5371723"
      },
      "execution_count": 20,
      "outputs": [
        {
          "output_type": "execute_result",
          "data": {
            "text/plain": [
              "'negative'"
            ],
            "application/vnd.google.colaboratory.intrinsic+json": {
              "type": "string"
            }
          },
          "metadata": {},
          "execution_count": 20
        }
      ]
    }
  ]
}